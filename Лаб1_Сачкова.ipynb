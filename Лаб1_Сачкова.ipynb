{
  "nbformat": 4,
  "nbformat_minor": 0,
  "metadata": {
    "colab": {
      "name": "Лаб1 Сачкова.ipynb",
      "provenance": [],
      "authorship_tag": "ABX9TyPiIpKoCayVyAAye24GRZZw",
      "include_colab_link": true
    },
    "kernelspec": {
      "name": "python3",
      "display_name": "Python 3"
    },
    "language_info": {
      "name": "python"
    }
  },
  "cells": [
    {
      "cell_type": "markdown",
      "metadata": {
        "id": "view-in-github",
        "colab_type": "text"
      },
      "source": [
        "<a href=\"https://colab.research.google.com/github/SachkovaGalina/PROA_LAB/blob/main/%D0%9B%D0%B0%D0%B11_%D0%A1%D0%B0%D1%87%D0%BA%D0%BE%D0%B2%D0%B0.ipynb\" target=\"_parent\"><img src=\"https://colab.research.google.com/assets/colab-badge.svg\" alt=\"Open In Colab\"/></a>"
      ]
    },
    {
      "cell_type": "code",
      "execution_count": null,
      "metadata": {
        "id": "9sp47lV1Rjvl"
      },
      "outputs": [],
      "source": [
        "import numpy as np"
      ]
    },
    {
      "cell_type": "markdown",
      "source": [
        "1.1. Считайте число n. Создайте в переменной Z Numpy вектор из нулей длины n.\n",
        "Примечание. В этой задаче не нужно ничего выводить на печать. Только создать вектор Z.\n",
        " "
      ],
      "metadata": {
        "id": "M-KBTPFCSM6-"
      }
    },
    {
      "cell_type": "code",
      "source": [
        "n=int(input())\n",
        "np.zeros((1, n))"
      ],
      "metadata": {
        "colab": {
          "base_uri": "https://localhost:8080/"
        },
        "id": "azO49Zm7SKb3",
        "outputId": "91e4ef1b-3847-4348-acba-7e36c8bd0142"
      },
      "execution_count": null,
      "outputs": [
        {
          "name": "stdout",
          "output_type": "stream",
          "text": [
            "5\n"
          ]
        },
        {
          "output_type": "execute_result",
          "data": {
            "text/plain": [
              "array([[0., 0., 0., 0., 0.]])"
            ]
          },
          "metadata": {},
          "execution_count": 5
        }
      ]
    },
    {
      "cell_type": "markdown",
      "source": [
        "1.2. Посчитайте размер матрицы Z в байтах и выведите его на печать. Чтобы узнать размер (в байтах) 1 элемента матрицы используйте\n",
        "атрибут https://docs.scipy.org/doc/numpy1.15.1/reference/generated/numpy.ndarray.itemsize.html Примечание. В этой задаче не нужно ничего считывать - матрица Z уже заполнена."
      ],
      "metadata": {
        "id": "Qq-lvylGS90W"
      }
    },
    {
      "cell_type": "code",
      "source": [
        "a = np.zeros((10,10))\n",
        "print(a.size * a.itemsize)\n",
        "b = np.array([1,2,3], dtype=np.float64)\n",
        "print(b.size * b.itemsize)"
      ],
      "metadata": {
        "id": "eTb-xbl7TC7G",
        "colab": {
          "base_uri": "https://localhost:8080/"
        },
        "outputId": "7833f0a5-1a65-46d0-8604-bf6097839652"
      },
      "execution_count": null,
      "outputs": [
        {
          "output_type": "stream",
          "name": "stdout",
          "text": [
            "800\n",
            "24\n"
          ]
        }
      ]
    },
    {
      "cell_type": "markdown",
      "source": [
        "1.3. Считайте 2 числа:\n",
        " n - размер Numpy вектора\n",
        " x - координата элемента вектора, который должен быть равен 1. Остальные элементы вектора\n",
        "должны быть равны 0. Сохраните вектор в переменную Z."
      ],
      "metadata": {
        "id": "Vq1Qpoyd8gqq"
      }
    },
    {
      "cell_type": "code",
      "source": [
        "n = int(input(\"\"))\n",
        "a = np.zeros((n))\n",
        "b = int(input(\"\"))\n",
        "a[b] = 1"
      ],
      "metadata": {
        "colab": {
          "base_uri": "https://localhost:8080/"
        },
        "id": "avHrkHdM8hzP",
        "outputId": "a3fbf75c-b793-472b-e7ab-d90da69f514c"
      },
      "execution_count": null,
      "outputs": [
        {
          "name": "stdout",
          "output_type": "stream",
          "text": [
            "10\n",
            "4\n"
          ]
        }
      ]
    },
    {
      "cell_type": "markdown",
      "source": [
        "1.4. Считайте 2 числа n, m. Создайте вектор Z состоящий из чисел от n до m с шагом 1."
      ],
      "metadata": {
        "id": "nhbpKbK9-yNr"
      }
    },
    {
      "cell_type": "code",
      "source": [
        "n = int(input(\"\"))\n",
        "m = int(input(\"\"))\n",
        "z = np.arange(n, m+1, 1)\n"
      ],
      "metadata": {
        "colab": {
          "base_uri": "https://localhost:8080/"
        },
        "id": "jgZQyt_o-5L2",
        "outputId": "7bbd8f5b-2cd2-489c-c488-e64064f9b701"
      },
      "execution_count": null,
      "outputs": [
        {
          "name": "stdout",
          "output_type": "stream",
          "text": [
            "10\n",
            "50\n"
          ]
        }
      ]
    },
    {
      "cell_type": "markdown",
      "source": [
        "1.5. Дан вектор Z. \"Разверните\" его."
      ],
      "metadata": {
        "id": "PmJhgeE__tJI"
      }
    },
    {
      "cell_type": "code",
      "source": [
        "z = np.array([1, 2, 3, 4])\n",
        "z = z[::-1]"
      ],
      "metadata": {
        "id": "7ZVVkXqc_xXG"
      },
      "execution_count": null,
      "outputs": []
    },
    {
      "cell_type": "markdown",
      "source": [
        "1.6. Считайте 3 числа:\n",
        " n - количество элементов матрицы\n",
        " m и k - размеры матрицы (число строк и столбцов соответственно)\n",
        "Заполните матрицу Z числами от 0 до n-1 по порядку (сперва строки, потом столбцы).\n",
        "Гарантируется, что m*k = n, т.е. все элементы \"влезут\" в матрицу и не останется пустых мест.\n"
      ],
      "metadata": {
        "id": "DMk6_-00p5vi"
      }
    },
    {
      "cell_type": "code",
      "source": [
        "n = int(input(\"\"))\n",
        "z = np.arange(0, n, 1)\n",
        "m, k = map(int, input().split())\n",
        "z.shape = (m, k)\n",
        "\n",
        "n = int(input(\"\"))\n",
        "z = np.arange(0, n, 1)\n",
        "m, k = map(int, input().split())\n",
        "z.shape = (m, k)"
      ],
      "metadata": {
        "colab": {
          "base_uri": "https://localhost:8080/"
        },
        "id": "dh7SAiUIp98Z",
        "outputId": "6ec971ef-84d4-456d-83d7-6d8d184b1afa"
      },
      "execution_count": null,
      "outputs": [
        {
          "name": "stdout",
          "output_type": "stream",
          "text": [
            "6\n",
            "2 3\n",
            "9\n",
            "3 3\n"
          ]
        }
      ]
    },
    {
      "cell_type": "markdown",
      "source": [
        "1.7. Дан вектор Z. Запишите в переменную NonZerros индексы ненулевых элементов."
      ],
      "metadata": {
        "id": "BOg18r7YuJyd"
      }
    },
    {
      "cell_type": "code",
      "source": [
        "z = np.array([1, 0, 2, 0, 3, 0, 4])\n",
        "NonZerros = np.nonzero(z)\n",
        "z = np.array([1, 2, 0, 0, 4, 0])\n",
        "NonZerros = np.nonzero(z)"
      ],
      "metadata": {
        "id": "l7aOsKaKuS8U"
      },
      "execution_count": null,
      "outputs": []
    },
    {
      "cell_type": "markdown",
      "source": [
        "1.8. Считайте число n. Создайте единичную матрицу размера n, сохраните результат в переменную Z."
      ],
      "metadata": {
        "id": "TcBAg4KYweZL"
      }
    },
    {
      "cell_type": "code",
      "source": [
        "n = int(input(\"\"))\n",
        "z = np.eye(n)"
      ],
      "metadata": {
        "colab": {
          "base_uri": "https://localhost:8080/"
        },
        "id": "mx3t0ZWywfru",
        "outputId": "cd3dc35d-2991-408c-aa9d-692e411829b6"
      },
      "execution_count": null,
      "outputs": [
        {
          "name": "stdout",
          "output_type": "stream",
          "text": [
            "3\n"
          ]
        }
      ]
    },
    {
      "cell_type": "markdown",
      "source": [
        "1.9 Считайте 3 числа: n, m, l.. Зафиксируйте значение генератора случайных чисел Numpy с помощью numpy.random.seed(42) . Создайте матрицу n*m*l из случайных чисел (от 0 до 1) и сохраните результат в переменную Z.\n"
      ],
      "metadata": {
        "id": "Ug-5W1ghxEZl"
      }
    },
    {
      "cell_type": "code",
      "source": [
        "np.random.seed(42)\n",
        "n, m, l = map(int, input().split())\n",
        "z = np.random.sample(n * (m, l))"
      ],
      "metadata": {
        "colab": {
          "base_uri": "https://localhost:8080/"
        },
        "id": "FnQq269_xGHQ",
        "outputId": "dd6a4a9c-0585-4e27-b45b-1f27d9d525a0"
      },
      "execution_count": null,
      "outputs": [
        {
          "output_type": "stream",
          "name": "stdout",
          "text": [
            "2 2 2\n",
            "[[[[0.37454012 0.95071431]\n",
            "   [0.73199394 0.59865848]]\n",
            "\n",
            "  [[0.15601864 0.15599452]\n",
            "   [0.05808361 0.86617615]]]\n",
            "\n",
            "\n",
            " [[[0.60111501 0.70807258]\n",
            "   [0.02058449 0.96990985]]\n",
            "\n",
            "  [[0.83244264 0.21233911]\n",
            "   [0.18182497 0.18340451]]]]\n"
          ]
        }
      ]
    },
    {
      "cell_type": "markdown",
      "source": [
        "1.10. Считайте 2 числа: n, m. Зафиксируйте значение генератора случайных чисел Numpy с помощью numpy.random.seed(42). Создайте матрицу n*m из случайных чисел (от 0 до 1).\n",
        "\n",
        "Выведите на печать значение минимального и максимального чисел в получившейся матрице (каждое с новой строки)."
      ],
      "metadata": {
        "id": "Ojg6_4yXzYJy"
      }
    },
    {
      "cell_type": "code",
      "source": [
        "np.random.seed(42)\n",
        "n, m = map(int, input().split())\n",
        "z = np.random.sample((n, m))\n",
        "print(z.min())\n",
        "print(z.max())\n",
        "np.random.seed(42)\n",
        "n, m = map(int, input().split())\n",
        "z = np.random.sample((n, m))\n",
        "print(z.min())\n",
        "print(z.max())"
      ],
      "metadata": {
        "colab": {
          "base_uri": "https://localhost:8080/"
        },
        "id": "CGid3AvuzewZ",
        "outputId": "e3e89f02-a7d9-4c24-f0f5-4cc1142fe417"
      },
      "execution_count": null,
      "outputs": [
        {
          "output_type": "stream",
          "name": "stdout",
          "text": [
            "10 10\n",
            "0.005522117123602399\n",
            "0.9868869366005173\n",
            "2 6\n",
            "0.020584494295802447\n",
            "0.9699098521619943\n"
          ]
        }
      ]
    },
    {
      "cell_type": "markdown",
      "source": [
        "1.11. Считайте 2 числа: n, m. Зафиксируйте значение генератора случайных чисел Numpy с помощью numpy.random.seed(42).Создайте матрицу n*m из случайных чисел (от 0 до 1). Выведите на печать значение среднего для всей матрицы."
      ],
      "metadata": {
        "id": "qM4FvrFZ0wN5"
      }
    },
    {
      "cell_type": "code",
      "source": [
        "np.random.seed(42)\n",
        "n, m = map(int, input().split())\n",
        "z = np.random.sample((n, m))\n",
        "print(z.sum()/z.size)\n",
        "np.random.seed(42)\n",
        "n, m = map(int, input().split())\n",
        "z = np.random.sample((n, m))\n",
        "print(z.sum()/z.size)"
      ],
      "metadata": {
        "colab": {
          "base_uri": "https://localhost:8080/"
        },
        "id": "I7CZ02xR0ziC",
        "outputId": "472dbc93-973c-41df-ae03-0365fb3b0000"
      },
      "execution_count": null,
      "outputs": [
        {
          "output_type": "stream",
          "name": "stdout",
          "text": [
            "30 30\n",
            "0.4923750160905882\n",
            "12 6\n",
            "0.46798212705144554\n"
          ]
        }
      ]
    },
    {
      "cell_type": "markdown",
      "source": [
        "1.12. Переменные A и B содержат по numpy вектору. Найдите их скалярное произведение и сохраните в переменную Z.\n",
        "A и B могут содержать как int, так и float."
      ],
      "metadata": {
        "id": "MPSfDHAX1UiR"
      }
    },
    {
      "cell_type": "code",
      "source": [
        "A = np.array([1.5, 2.5, 3.5]) \n",
        "B = np.array([4, 5, 6])\n",
        "z = np.zeros(A.size)\n",
        "for i in range(A.size):\n",
        "  z[i] = A[i] * B[i]\n",
        "print(z.sum())\n",
        "\n",
        "A = np.array([1, 3, 5, 7, 9]) \n",
        "B = np.array([-2, 4, -6, 8, -10])\n",
        "z = np.zeros(A.size)\n",
        "for i in range(A.size):\n",
        "  z[i] = A[i] * B[i]\n",
        "print(z.sum())"
      ],
      "metadata": {
        "colab": {
          "base_uri": "https://localhost:8080/"
        },
        "id": "QUnlc1Y71bl7",
        "outputId": "2b694942-31ca-44ab-de3b-e70dfcf05c39"
      },
      "execution_count": null,
      "outputs": [
        {
          "output_type": "stream",
          "name": "stdout",
          "text": [
            "39.5\n",
            "-54.0\n"
          ]
        }
      ]
    },
    {
      "cell_type": "markdown",
      "source": [
        "Даны 2 матрицы: А и В. Найдите произведение матриц и сохраните его в переменную Z. Если найти произведениее матриц невозможно, то запишите в Z строку: \n",
        "Упс! Что-то пошло не так..."
      ],
      "metadata": {
        "id": "PJ5NwsdI4cnB"
      }
    },
    {
      "cell_type": "code",
      "source": [
        "A = np.array([\n",
        "    [1, 2, 3],\n",
        "    [4, 5, 6]\n",
        "])\n",
        "B = np.array([\n",
        "    [11.5],\n",
        "    [12.5],\n",
        "    [13.5],\n",
        "])\n",
        "try:\n",
        "  res = A.dot(B)\n",
        "  print(res)\n",
        "except ValueError:\n",
        "  print('Упс! Что-то пошло не так...')\n",
        "\n",
        "A = np.array([\n",
        "    [1, 2, 3],\n",
        "    [4, 5, 6]\n",
        "])\n",
        "B = np.array([\n",
        "    [11.5, 12.5, 13.5]\n",
        "])\n",
        "try:\n",
        "  res = A.dot(B)\n",
        "  print(res)\n",
        "except ValueError:\n",
        "  print('Упс! Что-то пошло не так...')"
      ],
      "metadata": {
        "colab": {
          "base_uri": "https://localhost:8080/"
        },
        "id": "ggEA9PYJ49-A",
        "outputId": "e8fe27b4-aedd-4f37-e593-8b47a39e1694"
      },
      "execution_count": null,
      "outputs": [
        {
          "output_type": "stream",
          "name": "stdout",
          "text": [
            "[[ 77. ]\n",
            " [189.5]]\n",
            "Упс! Что-то пошло не так...\n"
          ]
        }
      ]
    },
    {
      "cell_type": "markdown",
      "source": [
        "![Снимок экрана 2022-02-14 в 14.29.49.png](data:image/png;base64,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)"
      ],
      "metadata": {
        "id": "K4gbDjcF_P8p"
      }
    },
    {
      "cell_type": "code",
      "source": [
        "z = np.arange(11)\n",
        "for i in range(z.size):\n",
        "  if z[i] > 3 and z[i] < 9:\n",
        "    z[i] = z[i] * -1\n",
        "  else:\n",
        "    pass\n",
        "print(z)\n",
        "\n",
        "\n",
        "\n",
        "z = np.array([-10, -5, 0, 5, 10])\n",
        "for i in range(z.size):\n",
        "  if z[i] > 3 and z[i] < 9:\n",
        "    z[i] = z[i] * -1\n",
        "  else:\n",
        "    pass\n",
        "print(z)"
      ],
      "metadata": {
        "colab": {
          "base_uri": "https://localhost:8080/"
        },
        "id": "HLjApy06_yy1",
        "outputId": "6d15a41c-1502-47d7-dfa7-bd9793f3162c"
      },
      "execution_count": null,
      "outputs": [
        {
          "output_type": "stream",
          "name": "stdout",
          "text": [
            "[ 0  1  2  3 -4 -5 -6 -7 -8  9 10]\n",
            "[-10  -5   0  -5  10]\n"
          ]
        }
      ]
    },
    {
      "cell_type": "markdown",
      "source": [
        "1.15.Подсчитать произведение ненулевых элементов на диагонали прямоугольной матрицы. Для X = np.array([[1, 0, 1], [2, 0, 2], [3, 0, 3], [4, 4, 4]]) ответ 3."
      ],
      "metadata": {
        "id": "Mm35ZBke8G0C"
      }
    },
    {
      "cell_type": "code",
      "source": [
        "X = np.array([[1, 0, 1], \n",
        "              [2, 0, 2], \n",
        "              [3, 0, 3], \n",
        "              [4, 4, 4]\n",
        "])\n",
        "count = 1\n",
        "for i in range(min(X.shape)):\n",
        "  if X[i,i] == 0:\n",
        "    pass\n",
        "  else:\n",
        "    count=count*X[i,i]\n",
        "print(count)"
      ],
      "metadata": {
        "colab": {
          "base_uri": "https://localhost:8080/"
        },
        "id": "uGVVH8hC8YSl",
        "outputId": "f4ab8bf5-caab-49fc-d7ed-a27bd55a34f2"
      },
      "execution_count": null,
      "outputs": [
        {
          "output_type": "stream",
          "name": "stdout",
          "text": [
            "3\n"
          ]
        }
      ]
    },
    {
      "cell_type": "markdown",
      "source": [
        "1.16. Считайте число n. Создайте в переменной Z Numpy вектор из нулей длины n."
      ],
      "metadata": {
        "id": "HaGRHNL1_VIS"
      }
    },
    {
      "cell_type": "code",
      "source": [
        "n=int(input())\n",
        "np.zeros((1, n))"
      ],
      "metadata": {
        "colab": {
          "base_uri": "https://localhost:8080/"
        },
        "id": "BN38UofN_ua4",
        "outputId": "00c40f88-b6dc-49e8-9a01-5a6a69cd82b2"
      },
      "execution_count": null,
      "outputs": [
        {
          "name": "stdout",
          "output_type": "stream",
          "text": [
            "5\n"
          ]
        },
        {
          "output_type": "execute_result",
          "data": {
            "text/plain": [
              "array([[0., 0., 0., 0., 0.]])"
            ]
          },
          "metadata": {},
          "execution_count": 9
        }
      ]
    },
    {
      "cell_type": "markdown",
      "source": [
        "1.17. Посчитайте размер матрицы Z в байтах и выведите его на печать. Чтобы узнать размер (в байтах) 1 элемента матрицы используйте\n",
        "атрибут https://docs.scipy.org/doc/numpy1.15.1/reference/generated/numpy.ndarray.itemsize.html Примечание. В этой задаче не нужно ничего считывать - матрица Z уже заполнена."
      ],
      "metadata": {
        "id": "DIulett6_1Wi"
      }
    },
    {
      "cell_type": "code",
      "source": [
        "a = np.zeros((10,10))\n",
        "print(a.size * a.itemsize)\n",
        "b = np.array([1,2,3], dtype=np.float64)\n",
        "print(b.size * b.itemsize)"
      ],
      "metadata": {
        "colab": {
          "base_uri": "https://localhost:8080/"
        },
        "id": "FUb8umDHAfsM",
        "outputId": "800e1aa2-ade3-418c-a522-96ab497a6918"
      },
      "execution_count": null,
      "outputs": [
        {
          "output_type": "stream",
          "name": "stdout",
          "text": [
            "800\n",
            "24\n"
          ]
        }
      ]
    },
    {
      "cell_type": "markdown",
      "source": [
        "Считайте 2 числа:\n",
        " n - размер Numpy вектора\n",
        " x - координата элемента вектора, который должен быть равен 1. Остальные элементы вектора\n",
        "должны быть равны 0. Сохраните вектор в переменную Z."
      ],
      "metadata": {
        "id": "iI4Jf54WArpR"
      }
    },
    {
      "cell_type": "code",
      "source": [
        "n = int(input(\"\"))\n",
        "a = np.zeros((n))\n",
        "b = int(input(\"\"))\n",
        "a[b] = 1"
      ],
      "metadata": {
        "colab": {
          "base_uri": "https://localhost:8080/"
        },
        "id": "uzq3iZkoAtGS",
        "outputId": "345bfa41-39bc-4db8-e969-8a5fef4b6a3b"
      },
      "execution_count": null,
      "outputs": [
        {
          "name": "stdout",
          "output_type": "stream",
          "text": [
            "10\n",
            "4\n"
          ]
        }
      ]
    },
    {
      "cell_type": "markdown",
      "source": [
        "1.19. Считайте 2 числа n, m. Создайте вектор Z состоящий из чисел от n до m с шагом 1.\n",
        "Примечание. В этой задаче не нужно ничего выводить на печать. Только создать вектор Z."
      ],
      "metadata": {
        "id": "bTHA7_TpBAzz"
      }
    },
    {
      "cell_type": "code",
      "source": [
        "n = int(input(\"\"))\n",
        "m = int(input(\"\"))\n",
        "z = np.arange(n, m+1, 1)"
      ],
      "metadata": {
        "colab": {
          "base_uri": "https://localhost:8080/"
        },
        "id": "h5hxBKHQBGaU",
        "outputId": "04e69574-f9ba-4572-f765-cbad076e56d5"
      },
      "execution_count": null,
      "outputs": [
        {
          "name": "stdout",
          "output_type": "stream",
          "text": [
            "10\n",
            "50\n"
          ]
        }
      ]
    },
    {
      "cell_type": "markdown",
      "source": [
        "1.20. Дан вектор Z. \"Разверните\" его.\n",
        "Примечание. В этой задаче не нужно ничего выводить на печать или считывать. Только развернуть уже созданный вектор Z."
      ],
      "metadata": {
        "id": "LF17c7HOBfuq"
      }
    },
    {
      "cell_type": "code",
      "source": [
        "z = np.array([1, 2, 3, 4])\n",
        "z = z[::-1]"
      ],
      "metadata": {
        "id": "kyB4ETzgBmxF"
      },
      "execution_count": null,
      "outputs": []
    },
    {
      "cell_type": "markdown",
      "source": [
        "1.21. Считайте 3 числа:\n",
        " n - количество элементов матрицы\n",
        " m и k - размеры матрицы (число строк и столбцов соответственно)\n",
        "Заполните матрицу Z числами от 0 до n-1 по порядку (сперва строки, потом столбцы).\n",
        "Гарантируется, что m*k = n, т.е. все элементы \"влезут\" в матрицу и не останется пустых мест."
      ],
      "metadata": {
        "id": "m2-2pvsaB6bq"
      }
    },
    {
      "cell_type": "code",
      "source": [
        "n = int(input(\"\"))\n",
        "z = np.arange(0, n, 1)\n",
        "m, k = map(int, input().split())\n",
        "z.shape = (m, k)\n",
        "\n",
        "n = int(input(\"\"))\n",
        "z = np.arange(0, n, 1)\n",
        "m, k = map(int, input().split())\n",
        "z.shape = (m, k)"
      ],
      "metadata": {
        "colab": {
          "base_uri": "https://localhost:8080/"
        },
        "id": "bgdI2gyQCANS",
        "outputId": "cdbe86b2-29ab-4cb1-9f01-8d6736d8854e"
      },
      "execution_count": null,
      "outputs": [
        {
          "name": "stdout",
          "output_type": "stream",
          "text": [
            "6\n",
            "2 3\n",
            "9\n",
            "3 3\n"
          ]
        }
      ]
    },
    {
      "cell_type": "markdown",
      "source": [
        "1.22. Дан вектор Z. Запишите в переменную NonZerros индексы ненулевых элементов.\n",
        "Используйте\n",
        "функцию https://docs.scipy.org/doc/numpy1.15.0/reference/generated/numpy.nonzero.html Примечание. В этой задаче не нужно ничего считывать или выводить на печать. Матрица Z уже готова, просто создайте NonZerros."
      ],
      "metadata": {
        "id": "N2OZzj__CfL2"
      }
    },
    {
      "cell_type": "code",
      "source": [
        "z = np.array([1, 0, 2, 0, 3, 0, 4])\n",
        "NonZerros = np.nonzero(z)\n",
        "z = np.array([1, 2, 0, 0, 4, 0])\n",
        "NonZerros = np.nonzero(z)"
      ],
      "metadata": {
        "id": "tK1JiRxCDRaA"
      },
      "execution_count": null,
      "outputs": []
    },
    {
      "cell_type": "markdown",
      "source": [
        "1.23. Считайте число n. Создайте единичную матрицу размера n, сохраните результат в переменную Z.\n",
        "Примечание. В этой задаче не нужно ничего выводить на печать. Только создать матрицу Z."
      ],
      "metadata": {
        "id": "KNUEBiWSDuDS"
      }
    },
    {
      "cell_type": "code",
      "source": [
        "n = int(input(\"\"))\n",
        "z = np.eye(n)"
      ],
      "metadata": {
        "colab": {
          "base_uri": "https://localhost:8080/"
        },
        "id": "EkUwdNO6D0yb",
        "outputId": "c26e262f-93b2-4726-9c61-1c4188fbb52a"
      },
      "execution_count": null,
      "outputs": [
        {
          "name": "stdout",
          "output_type": "stream",
          "text": [
            "3\n"
          ]
        }
      ]
    },
    {
      "cell_type": "markdown",
      "source": [
        "1.24 Считайте 3 числа: n, m, l.. Зафиксируйте значение генератора случайных чисел Numpy с помощью numpy.random.seed(42) . Создайте матрицу nml из случайных чисел (от 0 до 1) и сохраните результат в переменную Z."
      ],
      "metadata": {
        "id": "vKQ4UHo8EgkE"
      }
    },
    {
      "cell_type": "code",
      "source": [
        "np.random.seed(42)\n",
        "n, m, l = map(int, input().split())\n",
        "z = np.random.sample(n * (m, l))"
      ],
      "metadata": {
        "colab": {
          "base_uri": "https://localhost:8080/"
        },
        "id": "RgJ2HmoDEh-l",
        "outputId": "41e1e941-350e-4322-84cd-5df540df8e78"
      },
      "execution_count": null,
      "outputs": [
        {
          "name": "stdout",
          "output_type": "stream",
          "text": [
            "2 2 2\n"
          ]
        }
      ]
    },
    {
      "cell_type": "markdown",
      "source": [
        "1.25. Считайте 2 числа: n, m. Зафиксируйте значение генератора случайных чисел Numpy с помощью numpy.random.seed(42). Создайте матрицу n*m из случайных чисел (от 0 до 1).\n",
        "Выведите на печать значение минимального и максимального чисел в получившейся матрице (каждое с новой строки)."
      ],
      "metadata": {
        "id": "gnXffVIiEO3S"
      }
    },
    {
      "cell_type": "code",
      "source": [
        "np.random.seed(42)\n",
        "n, m = map(int, input().split())\n",
        "z = np.random.sample((n, m))\n",
        "print(z.min())\n",
        "print(z.max())\n",
        "np.random.seed(42)\n",
        "n, m = map(int, input().split())\n",
        "z = np.random.sample((n, m))\n",
        "print(z.min())\n",
        "print(z.max())"
      ],
      "metadata": {
        "colab": {
          "base_uri": "https://localhost:8080/"
        },
        "id": "3lnsxzkHFBUY",
        "outputId": "fb6e2fd4-4969-4307-b074-13f4ef2fc1d1"
      },
      "execution_count": null,
      "outputs": [
        {
          "output_type": "stream",
          "name": "stdout",
          "text": [
            "10 10\n",
            "0.005522117123602399\n",
            "0.9868869366005173\n",
            "2 6\n",
            "0.020584494295802447\n",
            "0.9699098521619943\n"
          ]
        }
      ]
    },
    {
      "cell_type": "markdown",
      "source": [
        ""
      ],
      "metadata": {
        "id": "JUTNdmjwCLcr"
      }
    }
  ]
}